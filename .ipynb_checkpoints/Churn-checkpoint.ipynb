{
 "cells": [
  {
   "cell_type": "code",
   "execution_count": null,
   "metadata": {},
   "outputs": [],
   "source": [
    "import pandas as pd\n",
    "import numpy as np\n",
    "import matplotlib.pyplot as plt\n",
    "\n",
    "from sklearn.linear_model import LogisticRegression\n",
    "from sklearn.ensemble import RandomForestClassifier\n",
    "\n",
    "%matplotlib inline"
   ]
  },
  {
   "cell_type": "code",
   "execution_count": null,
   "metadata": {},
   "outputs": [],
   "source": [
    "#Load original dataset\n",
    "churn_original = pd.read_excel(\"Churn_original.xlsx\")"
   ]
  },
  {
   "cell_type": "code",
   "execution_count": null,
   "metadata": {},
   "outputs": [],
   "source": [
    "#Load dataset with categorical columns\n",
    "churn = pd.read_excel(\"Churn.xlsx\")\n",
    "churn = churn[churn[\"TotalCharges\"] != \" \"]\n",
    "churn[\"TotalCharges\"] = churn[\"TotalCharges\"].astype(float)"
   ]
  },
  {
   "cell_type": "markdown",
   "metadata": {},
   "source": [
    "# dataset: study outliers, etc."
   ]
  },
  {
   "cell_type": "code",
   "execution_count": null,
   "metadata": {},
   "outputs": [],
   "source": []
  },
  {
   "cell_type": "markdown",
   "metadata": {},
   "source": [
    "# Observation of the values in the dataset"
   ]
  },
  {
   "cell_type": "code",
   "execution_count": null,
   "metadata": {},
   "outputs": [],
   "source": [
    "for column_name in churn_original.drop(\"tenure\", axis=1).columns[1:-3]:\n",
    "    print(churn_original[str(column_name)].value_counts())\n",
    "    print('~~~~~~~~~~~~~~~~~~~~~~~~~~~~~~~~~~~~~~')\n",
    "    print('\\r')"
   ]
  },
  {
   "cell_type": "markdown",
   "metadata": {},
   "source": [
    "# First analysis of the importance of features"
   ]
  },
  {
   "cell_type": "markdown",
   "metadata": {},
   "source": [
    "### Analysis of categorical variables"
   ]
  },
  {
   "cell_type": "markdown",
   "metadata": {},
   "source": [
    "In this part, we display in histograms the proportion of clients who churned for each feature. That will give us a first estimation of the importance of each feature."
   ]
  },
  {
   "cell_type": "code",
   "execution_count": null,
   "metadata": {},
   "outputs": [],
   "source": [
    "print(\"Proportion of churns for each feature: (the light gray aera is the proportion of people who didn't churn)\")\n",
    "\n",
    "columns = churn_original.drop(\"tenure\", axis=1).columns[1:-3]\n",
    "churned = churn_original[churn_original.Churn == \"Yes\"]\n",
    "\n",
    "color = [\"grey\", \"blue\", \"orange\", \"purple\", \"pink\"]\n",
    "\n",
    "fig, ax = plt.subplots(6, 3, figsize=(20,25))\n",
    "\n",
    "for i in range(len(columns)):\n",
    "    column_name = str(columns[i])\n",
    "    \n",
    "    weights = np.ones(churned.shape[0])\n",
    "    weights1 = np.ones(churned.shape[0])\n",
    "\n",
    "    for value in churned[column_name].value_counts().index.values.tolist():\n",
    "        weights[churned[column_name] == value] = 1/churn_original[column_name].value_counts().loc[value]\n",
    "        weights1[churned[column_name] == value] = 1/churned[column_name].value_counts().loc[value]\n",
    "        \n",
    "    ax[int(i/3)][i%3].hist(churned[column_name], color=\"#f2f2f2\", weights=weights1)    \n",
    "    ax[int(i/3)][i%3].hist(churned[column_name], color=color[i%5], weights=weights)\n",
    "                          \n",
    "    ax[int(i/3)][i%3].set_title(column_name)\n",
    "    ax[int(i/3)][i%3].set_xlabel(\"Values of the feature\")\n",
    "    ax[int(i/3)][i%3].set_ylabel(\"Proportion of churns\")\n",
    "    \n",
    "plt.tight_layout()\n"
   ]
  },
  {
   "cell_type": "markdown",
   "metadata": {},
   "source": [
    "*We observe a lot of things with this first analysis.<br>\n",
    "First, some features to have very little influence on the churn, such as the gender, the multiple lines, the phone service.\n",
    "Other features seem to be very important, like the tech support, the online security, the contract.<br><br>\n",
    "3 payment methods look similar but the electronic check however leads to much more churns than the others.*"
   ]
  },
  {
   "cell_type": "markdown",
   "metadata": {},
   "source": [
    "### Analysis of the tenure"
   ]
  },
  {
   "cell_type": "code",
   "execution_count": null,
   "metadata": {},
   "outputs": [],
   "source": [
    "tenure = churn[[\"tenure\",\"Churn\"]].copy()"
   ]
  },
  {
   "cell_type": "code",
   "execution_count": null,
   "metadata": {},
   "outputs": [],
   "source": [
    "tenure1 = tenure[tenure.tenure <= 6].Churn\n",
    "tenure2 = tenure[np.logical_and(tenure.tenure > 6,tenure.tenure <= 20)].Churn\n",
    "tenure3 = tenure[np.logical_and(tenure.tenure > 20,tenure.tenure <= 40)].Churn\n",
    "tenure4 = tenure[np.logical_and(tenure.tenure > 40,tenure.tenure <= 60)].Churn\n",
    "tenure5 = tenure[tenure.tenure > 60].Churn\n",
    "\n",
    "tenures = [tenure1.values, tenure2.values, tenure3.values, tenure4.values, tenure5.values]"
   ]
  },
  {
   "cell_type": "code",
   "execution_count": null,
   "metadata": {},
   "outputs": [],
   "source": [
    "fig = plt.figure(figsize=(14,5))\n",
    "ax = plt.axes()\n",
    "\n",
    "ax.hist(tenures, label=[\"Tenure <= 6\",\"6 < tenure <= 20\",\"20 < Tenure <= 40\",\"40 < tenure <= 60\",\"Tenure > 60\"])\n",
    "ax.legend()\n",
    "ax.set_xticks([0,1])\n",
    "ax.set_xticklabels([\"Didn't churn\",\"Churned\"])\n",
    "ax.set_ylabel(\"Number of clients\")"
   ]
  },
  {
   "cell_type": "markdown",
   "metadata": {},
   "source": [
    "*We observe that people who are clients since a long time are less likely to churn.*"
   ]
  },
  {
   "cell_type": "markdown",
   "metadata": {},
   "source": [
    "# Machine learning"
   ]
  },
  {
   "cell_type": "markdown",
   "metadata": {},
   "source": [
    "Now, further analysis..."
   ]
  },
  {
   "cell_type": "code",
   "execution_count": null,
   "metadata": {},
   "outputs": [],
   "source": [
    "train = churn.iloc[0:6000].drop(\"customerID\", axis=1)\n",
    "test =  churn.iloc[6001:7000].drop(\"customerID\", axis=1)"
   ]
  },
  {
   "cell_type": "code",
   "execution_count": null,
   "metadata": {},
   "outputs": [],
   "source": [
    "classifier = RandomForestClassifier()\n",
    "classifier.fit(train.drop(\"Churn\", axis=1), train.Churn)\n",
    "\n",
    "predicted_churn = classifier.predict(test.drop(\"Churn\", axis=1))"
   ]
  },
  {
   "cell_type": "code",
   "execution_count": null,
   "metadata": {},
   "outputs": [],
   "source": [
    "matched = predicted_churn == test.Churn"
   ]
  },
  {
   "cell_type": "code",
   "execution_count": null,
   "metadata": {},
   "outputs": [],
   "source": [
    "plt.hist(matched)"
   ]
  },
  {
   "cell_type": "markdown",
   "metadata": {},
   "source": [
    "Using all the features available, we see we can predict 80% of churn with this model of random forest"
   ]
  },
  {
   "cell_type": "markdown",
   "metadata": {},
   "source": [
    "> See what features matter the most"
   ]
  },
  {
   "cell_type": "code",
   "execution_count": null,
   "metadata": {},
   "outputs": [],
   "source": []
  }
 ],
 "metadata": {
  "kernelspec": {
   "display_name": "Python 3",
   "language": "python",
   "name": "python3"
  }
 },
 "nbformat": 4,
 "nbformat_minor": 2
}
