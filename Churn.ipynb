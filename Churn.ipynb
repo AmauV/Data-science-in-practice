{
 "cells": [
  {
   "cell_type": "code",
   "execution_count": null,
   "metadata": {},
   "outputs": [],
   "source": [
    "import pandas as pd\n",
    "import numpy as np\n",
    "import matplotlib.pyplot as plt\n",
    "\n",
    "from sklearn.linear_model import LogisticRegression\n",
    "from sklearn.ensemble import RandomForestClassifier\n",
    "\n",
    "%matplotlib inline"
   ]
  },
  {
   "cell_type": "code",
   "execution_count": null,
   "metadata": {},
   "outputs": [],
   "source": [
    "#Load dataset\n",
    "churn = pd.read_excel(\"Churn.xlsx\")\n",
    "churn = churn[churn[\"TotalCharges\"] != \" \"]\n",
    "churn[\"TotalCharges\"] = churn[\"TotalCharges\"].astype(float)"
   ]
  },
  {
   "cell_type": "markdown",
   "metadata": {},
   "source": [
    "> Impact of tenure on Churn:"
   ]
  },
  {
   "cell_type": "code",
   "execution_count": null,
   "metadata": {},
   "outputs": [],
   "source": [
    "tenure = churn[[\"tenure\",\"Churn\"]].copy()\n",
    "tenure.Churn[tenure.Churn == 1] = \"Yes\"\n",
    "tenure.Churn[tenure.Churn == 0] = \"No\""
   ]
  },
  {
   "cell_type": "code",
   "execution_count": null,
   "metadata": {},
   "outputs": [],
   "source": [
    "tenure1 = tenure[tenure.tenure <= 6]\n",
    "tenure2 = tenure[np.logical_and(tenure.tenure > 6,tenure.tenure <= 20)]\n",
    "tenure3 = tenure[np.logical_and(tenure.tenure > 20,tenure.tenure <= 40)]\n",
    "tenure4 = tenure[np.logical_and(tenure.tenure > 40,tenure.tenure <= 60)]\n",
    "tenure5 = tenure[tenure.tenure > 60]"
   ]
  },
  {
   "cell_type": "code",
   "execution_count": null,
   "metadata": {},
   "outputs": [],
   "source": [
    "plt.hist(tenure1.Churn, histtype=\"step\")\n",
    "plt.hist(tenure2.Churn, histtype=\"step\")\n",
    "plt.hist(tenure3.Churn, histtype=\"step\")\n",
    "plt.hist(tenure4.Churn, histtype=\"step\")\n",
    "plt.hist(tenure5.Churn, histtype=\"step\")"
   ]
  },
  {
   "cell_type": "markdown",
   "metadata": {},
   "source": [
    "We see that customers who have been customers for shorter periods are more likely to leave.\n",
    "This histogram not readable, make better."
   ]
  },
  {
   "cell_type": "markdown",
   "metadata": {},
   "source": [
    "> Machine learning:"
   ]
  },
  {
   "cell_type": "code",
   "execution_count": null,
   "metadata": {},
   "outputs": [],
   "source": [
    "train = churn.iloc[0:6000].drop(\"customerID\", axis=1)\n",
    "test =  churn.iloc[6001:7000].drop(\"customerID\", axis=1)"
   ]
  },
  {
   "cell_type": "code",
   "execution_count": null,
   "metadata": {},
   "outputs": [],
   "source": [
    "classifier = RandomForestClassifier()\n",
    "classifier.fit(train.drop(\"Churn\", axis=1), train.Churn)\n",
    "\n",
    "predicted_churn = classifier.predict(test.drop(\"Churn\", axis=1))"
   ]
  },
  {
   "cell_type": "code",
   "execution_count": null,
   "metadata": {},
   "outputs": [],
   "source": [
    "matched = predicted_churn == test.Churn"
   ]
  },
  {
   "cell_type": "code",
   "execution_count": null,
   "metadata": {},
   "outputs": [],
   "source": [
    "plt.hist(matched)"
   ]
  },
  {
   "cell_type": "markdown",
   "metadata": {},
   "source": [
    "Using all the features available, we see we can predict 80% of churn with this model of random forest"
   ]
  },
  {
   "cell_type": "markdown",
   "metadata": {},
   "source": [
    "> See what features matter the most"
   ]
  },
  {
   "cell_type": "code",
   "execution_count": null,
   "metadata": {},
   "outputs": [],
   "source": []
  }
 ],
 "metadata": {
  "kernelspec": {
   "display_name": "Python 3",
   "language": "python",
   "name": "python3"
  },
  "language_info": {
   "codemirror_mode": {
    "name": "ipython",
    "version": 3
   },
   "file_extension": ".py",
   "mimetype": "text/x-python",
   "name": "python",
   "nbconvert_exporter": "python",
   "pygments_lexer": "ipython3",
   "version": "3.6.4"
  }
 },
 "nbformat": 4,
 "nbformat_minor": 2
}
